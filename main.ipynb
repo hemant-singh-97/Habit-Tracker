{
 "cells": [
  {
   "cell_type": "markdown",
   "id": "a989b027-e2cc-41a0-bca5-543b81b04598",
   "metadata": {},
   "source": [
    "# Tracker for various daily habits (In Development)"
   ]
  },
  {
   "cell_type": "markdown",
   "id": "69e939c8-4f22-4547-bc38-71c80553367e",
   "metadata": {},
   "source": [
    "Install these libraries manually if not installed already,  using **pip**"
   ]
  },
  {
   "cell_type": "code",
   "execution_count": 2,
   "id": "5641317b-9871-4944-ba44-c1d42dd40d63",
   "metadata": {},
   "outputs": [],
   "source": [
    "from matplotlib import pyplot as plt"
   ]
  },
  {
   "cell_type": "markdown",
   "id": "c840a27f-564c-432d-ab64-ae8e97d7a15a",
   "metadata": {},
   "source": [
    "Segregate Good Habits and Bad Habits :\n",
    "\n",
    "- **Good Habits :**\n",
    "    1. Reading *(Minutes, #Pages)*\n",
    "    2. Walking *(Step Count)*\n",
    "    3. Exercise *(Calorie Burnt)*\n",
    "    4. Shower *(#Hot Shower, #Cold Shower)*\n",
    "    5. Solving Leetcode questions *(#Problems Solved)*\n",
    "- **Bad Habits :**\n",
    "    1. Smoking Cigarette *(#Cigarettes Smoked)*\n",
    "    2. Porn *(#Relapses)*\n",
    "    3. Alcohol Consumtion *(#Pegs)*\n",
    "- **Casual Habits :**\n",
    "    1. Watching Series *(Minutes, #Episodes)*"
   ]
  },
  {
   "cell_type": "code",
   "execution_count": null,
   "id": "6b01feaf-ad3c-4fc6-83b0-a15248ac7feb",
   "metadata": {},
   "outputs": [],
   "source": []
  }
 ],
 "metadata": {
  "kernelspec": {
   "display_name": "Python 3 (ipykernel)",
   "language": "python",
   "name": "python3"
  },
  "language_info": {
   "codemirror_mode": {
    "name": "ipython",
    "version": 3
   },
   "file_extension": ".py",
   "mimetype": "text/x-python",
   "name": "python",
   "nbconvert_exporter": "python",
   "pygments_lexer": "ipython3",
   "version": "3.11.0"
  }
 },
 "nbformat": 4,
 "nbformat_minor": 5
}
