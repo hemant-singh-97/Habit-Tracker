{
 "cells": [
  {
   "cell_type": "markdown",
   "id": "a989b027-e2cc-41a0-bca5-543b81b04598",
   "metadata": {},
   "source": [
    "# Tracker for various daily habits (In Development)"
   ]
  },
  {
   "cell_type": "code",
   "execution_count": null,
   "id": "5641317b-9871-4944-ba44-c1d42dd40d63",
   "metadata": {},
   "outputs": [],
   "source": []
  }
 ],
 "metadata": {
  "kernelspec": {
   "display_name": "Python 3 (ipykernel)",
   "language": "python",
   "name": "python3"
  },
  "language_info": {
   "codemirror_mode": {
    "name": "ipython",
    "version": 3
   },
   "file_extension": ".py",
   "mimetype": "text/x-python",
   "name": "python",
   "nbconvert_exporter": "python",
   "pygments_lexer": "ipython3",
   "version": "3.11.0"
  }
 },
 "nbformat": 4,
 "nbformat_minor": 5
}
